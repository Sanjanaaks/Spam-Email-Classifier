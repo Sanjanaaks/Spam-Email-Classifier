{
  "nbformat": 4,
  "nbformat_minor": 0,
  "metadata": {
    "colab": {
      "provenance": []
    },
    "kernelspec": {
      "name": "python3",
      "display_name": "Python 3"
    },
    "language_info": {
      "name": "python"
    }
  },
  "cells": [
    {
      "cell_type": "code",
      "execution_count": 1,
      "metadata": {
        "colab": {
          "base_uri": "https://localhost:8080/",
          "height": 854
        },
        "id": "6iMfKTYwPC0d",
        "outputId": "d6b60182-6c4f-4f66-c5b7-ae0d238df333"
      },
      "outputs": [
        {
          "output_type": "stream",
          "name": "stdout",
          "text": [
            "  Category                                            Message\n",
            "0      ham  Go until jurong point, crazy.. Available only ...\n",
            "1      ham                      Ok lar... Joking wif u oni...\n",
            "2     spam  Free entry in 2 a wkly comp to win FA Cup fina...\n",
            "3      ham  U dun say so early hor... U c already then say...\n",
            "4      ham  Nah I don't think he goes to usf, he lives aro...\n",
            "label      0\n",
            "message    0\n",
            "dtype: int64\n",
            "Accuracy: 0.9650224215246637\n",
            "\n",
            "Classification Report:\n",
            "               precision    recall  f1-score   support\n",
            "\n",
            "           0       0.96      1.00      0.98       966\n",
            "           1       1.00      0.74      0.85       149\n",
            "\n",
            "    accuracy                           0.97      1115\n",
            "   macro avg       0.98      0.87      0.91      1115\n",
            "weighted avg       0.97      0.97      0.96      1115\n",
            "\n"
          ]
        },
        {
          "output_type": "display_data",
          "data": {
            "text/plain": [
              "<Figure size 640x480 with 2 Axes>"
            ],
            "image/png": "[encoded data removed]"
          },
          "metadata": {}
        },
        {
          "output_type": "execute_result",
          "data": {
            "text/plain": [
              "['vectorizer.pkl']"
            ]
          },
          "metadata": {},
          "execution_count": 1
        }
      ],
      "source": [
        "import pandas as pd\n",
        "import numpy as np\n",
        "import matplotlib.pyplot as plt\n",
        "import seaborn as sns\n",
        "from sklearn.model_selection import train_test_split\n",
        "from sklearn.feature_extraction.text import CountVectorizer, TfidfVectorizer\n",
        "from sklearn.naive_bayes import MultinomialNB\n",
        "from sklearn.metrics import classification_report, confusion_matrix, accuracy_score\n",
        "import joblib\n",
        "import re\n",
        "\n",
        "# Step 1: Load the dataset\n",
        "df = pd.read_csv('/content/mail_data.csv')\n",
        "\n",
        "# Display the first few rows\n",
        "print(df.head())\n",
        "\n",
        "# Step 2: Data Preprocessing\n",
        "# Rename columns for easier access\n",
        "df.columns = ['label', 'message']\n",
        "\n",
        "# Convert labels to binary (spam=1, ham=0)\n",
        "df['label'] = df['label'].map({'ham': 0, 'spam': 1})\n",
        "\n",
        "# Check for missing values\n",
        "print(df.isnull().sum())\n",
        "\n",
        "# Clean the messages (remove special characters and numbers)\n",
        "def clean_message(text):\n",
        "    text = re.sub(r'\\W', ' ', text)  # Remove special characters\n",
        "    text = re.sub(r'\\d+', '', text)  # Remove numbers\n",
        "    text = re.sub(r'\\s+', ' ', text)  # Remove extra whitespace\n",
        "    return text.strip().lower()\n",
        "\n",
        "df['cleaned_message'] = df['message'].apply(clean_message)\n",
        "\n",
        "# Step 3: Split the dataset into training and testing sets\n",
        "X_train, X_test, y_train, y_test = train_test_split(df['cleaned_message'], df['label'], test_size=0.2, random_state=42)\n",
        "\n",
        "# Step 4: Feature Extraction using TF-IDF Vectorizer\n",
        "vectorizer = TfidfVectorizer()\n",
        "X_train_vec = vectorizer.fit_transform(X_train)\n",
        "X_test_vec = vectorizer.transform(X_test)\n",
        "\n",
        "# Step 5: Train the Naive Bayes Model\n",
        "model = MultinomialNB()\n",
        "model.fit(X_train_vec, y_train)\n",
        "\n",
        "# Step 6: Make Predictions\n",
        "y_pred = model.predict(X_test_vec)\n",
        "\n",
        "# Step 7: Evaluate the Model\n",
        "print(\"Accuracy:\", accuracy_score(y_test, y_pred))\n",
        "print(\"\\nClassification Report:\\n\", classification_report(y_test, y_pred))\n",
        "\n",
        "# Confusion Matrix Visualization\n",
        "cm = confusion_matrix(y_test, y_pred)\n",
        "sns.heatmap(cm, annot=True, fmt='d', cmap='Blues')\n",
        "plt.xlabel('Predicted')\n",
        "plt.ylabel('Actual')\n",
        "plt.title('Confusion Matrix')\n",
        "plt.show()\n",
        "\n",
        "# Step 8: Save the Model and Vectorizer\n",
        "joblib.dump(model, 'spam_classifier_model.pkl')\n",
        "joblib.dump(vectorizer, 'vectorizer.pkl')"
      ]
    },
    {
      "cell_type": "code",
      "source": [
        "# Load the model and vectorizer\n",
        "loaded_model = joblib.load('spam_classifier_model.pkl')\n",
        "loaded_vectorizer = joblib.load('vectorizer.pkl')\n",
        "\n",
        "# Test with new messages\n",
        "new_messages = [\n",
        "    \"Congratulations! You've won a free gift card. Click here to claim now.\",\n",
        "    \"Hi, can we meet tomorrow for the project discussion?\",\n",
        "]\n",
        "\n",
        "# Clean the new messages\n",
        "new_messages_cleaned = [clean_message(msg) for msg in new_messages]\n",
        "\n",
        "# Transform and predict\n",
        "new_messages_vec = loaded_vectorizer.transform(new_messages_cleaned)\n",
        "predictions = loaded_model.predict(new_messages_vec)\n",
        "\n",
        "# Display predictions\n",
        "for msg, label in zip(new_messages, predictions):\n",
        "    print(f\"\\nMessage: {msg}\\nPrediction: {'Spam' if label == 1 else 'Ham'}\")"
      ],
      "metadata": {
        "colab": {
          "base_uri": "https://localhost:8080/"
        },
        "id": "42nZc63GPZ6Y",
        "outputId": "e88d7244-5787-4350-a7e5-d2a7d4c3ce9f"
      },
      "execution_count": 2,
      "outputs": [
        {
          "output_type": "stream",
          "name": "stdout",
          "text": [
            "\n",
            "Message: Congratulations! You've won a free gift card. Click here to claim now.\n",
            "Prediction: Spam\n",
            "\n",
            "Message: Hi, can we meet tomorrow for the project discussion?\n",
            "Prediction: Ham\n"
          ]
        }
      ]
    },
    {
      "cell_type": "code",
      "source": [],
      "metadata": {
        "id": "7v6sO1JZPf2c"
      },
      "execution_count": null,
      "outputs": []
    }
  ]
}